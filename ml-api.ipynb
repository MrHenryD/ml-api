{
 "cells": [
  {
   "cell_type": "code",
   "execution_count": 64,
   "metadata": {},
   "outputs": [],
   "source": [
    "from sklearn.externals import joblib\n",
    "from sklearn.pipeline import Pipeline\n",
    "\n",
    "import xgboost as xgb\n",
    "\n",
    "class BostonHousingModel(object):\n",
    "    def __init__(self, hyperparameters=None, transformers=[]):        \n",
    "        if hyperparameters:\n",
    "            model = xgb.XGBRegressor(**hyperparameters)\n",
    "        else:\n",
    "            model = xgb.XGBRegressor()\n",
    "        \n",
    "        self.pipeline = Pipeline([('t_%s' % str(i + 1), transformer) \n",
    "                                   for transformer in transformers] + \n",
    "                                 [('clf', model)]\n",
    "                                )\n",
    "        \n",
    "    def train(self, data, target):\n",
    "        self.pipeline = self.pipeline.fit(data, target)\n",
    "        \n",
    "    def score(self, data, target, metric='r2'):\n",
    "        predictions = self.predict(data)\n",
    "        \n",
    "        if metric == 'r2':\n",
    "            return r2_score(target, predictions)\n",
    "        \n",
    "        elif metric == 'mse':\n",
    "            return mean_squared_error(target, predictions)\n",
    "    \n",
    "    def save(self, file):\n",
    "        _ = joblib.dump(self.pipeline, file)\n",
    "    \n",
    "    def load(self, file, replace=True):\n",
    "        pipeline = joblib.load(file)\n",
    "        \n",
    "        if replace:\n",
    "            self.pipeline = pipeline\n",
    "        \n",
    "        return pipeline\n",
    "    \n",
    "    def predict(self, data):\n",
    "        predictions = self.pipeline.predict(data)\n",
    "        return predictions    "
   ]
  },
  {
   "cell_type": "code",
   "execution_count": null,
   "metadata": {},
   "outputs": [],
   "source": [
    "# Usage\n",
    "BOSTON_MODEL_PATH = 'boston-housing.pkl'\n",
    "MODEL_TRACKER_PATH = 'data/tracker.pkl'\n",
    "HYPER_PARAMETERS = {\n",
    "    'objective': 'reg:squarederror'\n",
    "}\n",
    "METRIC = 'r2'"
   ]
  },
  {
   "cell_type": "code",
   "execution_count": 97,
   "metadata": {},
   "outputs": [],
   "source": [
    "import pickle\n",
    "from datetime import datetime\n",
    "\n",
    "class ModelTracker(object):\n",
    "    def __init__(self):\n",
    "        self.training_results = []\n",
    "        self.best_score = 0\n",
    "    \n",
    "    def add_training_result(self, metric, score, record_time=datetime.now()):\n",
    "        if score > self.best_score:\n",
    "            self.best_score = score\n",
    "            \n",
    "        self.training_results.append((metric, score, record_time))\n",
    "        \n",
    "    def compare_score(self, score):\n",
    "        if self.best_score < score:\n",
    "            return False\n",
    "        else:\n",
    "            return True\n",
    "        \n",
    "    @staticmethod\n",
    "    def save(obj, file):\n",
    "        with open(file, 'wb') as outfile:\n",
    "            pickle.dump(obj, outfile)\n",
    "            \n",
    "    @staticmethod\n",
    "    def load(file):\n",
    "        with open(file, 'rb') as readfile:\n",
    "            obj = pickle.load(readfile)\n",
    "            return obj\n",
    "            "
   ]
  },
  {
   "cell_type": "code",
   "execution_count": 80,
   "metadata": {},
   "outputs": [],
   "source": [
    "def setup():\n",
    "    _ = run_pipeline()"
   ]
  },
  {
   "cell_type": "code",
   "execution_count": 103,
   "metadata": {},
   "outputs": [],
   "source": [
    "# pipeline\n",
    "import os\n",
    "\n",
    "def run_pipeline():\n",
    "    # load model tracker (if exists)\n",
    "    if os.path.isfile:\n",
    "        model_tracker = ModelTracker.load(MODEL_TRACKER_PATH)\n",
    "    else:\n",
    "        model_tracker = ModelTracker()\n",
    "\n",
    "    # load model and data\n",
    "    data, target, features, description = load_data()\n",
    "    model = BostonHousingModel(HYPER_PARAMETERS)\n",
    "\n",
    "    # train, score and save training iteration\n",
    "    _ = model.train(data, target)\n",
    "    score = model.score(data, target, METRIC)\n",
    "    model_tracker.add_training_result(METRIC, score)\n",
    "\n",
    "    # save results if new model is better\n",
    "    is_better = model_tracker.compare_score(score)\n",
    "\n",
    "    if is_better:\n",
    "        _ = model.save(BOSTON_MODEL_PATH)\n",
    "\n",
    "    _ = model_tracker.save(model_tracker, MODEL_TRACKER_PATH)"
   ]
  },
  {
   "cell_type": "code",
   "execution_count": 107,
   "metadata": {},
   "outputs": [
    {
     "data": {
      "text/plain": [
       "array(['CRIM', 'ZN', 'INDUS', 'CHAS', 'NOX', 'RM', 'AGE', 'DIS', 'RAD',\n",
       "       'TAX', 'PTRATIO', 'B', 'LSTAT'], dtype='<U7')"
      ]
     },
     "execution_count": 107,
     "metadata": {},
     "output_type": "execute_result"
    }
   ],
   "source": [
    "features"
   ]
  },
  {
   "cell_type": "code",
   "execution_count": 114,
   "metadata": {},
   "outputs": [],
   "source": [
    "import numpy as np"
   ]
  },
  {
   "cell_type": "code",
   "execution_count": 116,
   "metadata": {},
   "outputs": [
    {
     "data": {
      "text/plain": [
       "array([[1, 2, 3, 4]])"
      ]
     },
     "execution_count": 116,
     "metadata": {},
     "output_type": "execute_result"
    }
   ],
   "source": [
    "np.array([1,2,3,4]).reshape(1,-1)"
   ]
  },
  {
   "cell_type": "code",
   "execution_count": 112,
   "metadata": {
    "scrolled": true
   },
   "outputs": [
    {
     "data": {
      "text/plain": [
       "array([[6.320e-03, 1.800e+01, 2.310e+00, 0.000e+00, 5.380e-01, 6.575e+00,\n",
       "        6.520e+01, 4.090e+00, 1.000e+00, 2.960e+02, 1.530e+01, 3.969e+02,\n",
       "        4.980e+00]])"
      ]
     },
     "execution_count": 112,
     "metadata": {},
     "output_type": "execute_result"
    }
   ],
   "source": [
    "# server\n",
    "data[0].reshape(1, -1)"
   ]
  },
  {
   "cell_type": "code",
   "execution_count": 113,
   "metadata": {},
   "outputs": [
    {
     "data": {
      "text/plain": [
       "26.647913"
      ]
     },
     "execution_count": 113,
     "metadata": {},
     "output_type": "execute_result"
    }
   ],
   "source": [
    "model.predict(data[0].reshape(1, -1))[0]"
   ]
  },
  {
   "cell_type": "code",
   "execution_count": 10,
   "metadata": {},
   "outputs": [],
   "source": [
    "# utils\n",
    "from sklearn.datasets import load_boston\n",
    "\n",
    "def load_data():\n",
    "    \"\"\" Load and return the boston house-prices dataset (regression). \"\"\"\n",
    "    \n",
    "    dataset = load_boston()\n",
    "    data, target, features, description = (dataset['data'], dataset['target'], \n",
    "                                           dataset['feature_names'], dataset['DESCR'])\n",
    "    \n",
    "    return data, target, features, description\n"
   ]
  },
  {
   "cell_type": "code",
   "execution_count": 11,
   "metadata": {},
   "outputs": [],
   "source": [
    "data, target, features, description = load_data()"
   ]
  },
  {
   "cell_type": "code",
   "execution_count": 120,
   "metadata": {},
   "outputs": [],
   "source": [
    "data_dict = {}"
   ]
  },
  {
   "cell_type": "code",
   "execution_count": 121,
   "metadata": {},
   "outputs": [],
   "source": [
    "columns = ['CRIM', 'ZN', 'INDUS', 'CHAS', 'NOX', 'RM', 'AGE', 'DIS', 'RAD',\n",
    "'TAX', 'PTRATIO', 'B', 'LSTAT']"
   ]
  },
  {
   "cell_type": "code",
   "execution_count": 123,
   "metadata": {},
   "outputs": [],
   "source": [
    "for feature, value in zip(columns, data[0]):\n",
    "    data_dict[feature] = value"
   ]
  },
  {
   "cell_type": "code",
   "execution_count": 125,
   "metadata": {},
   "outputs": [],
   "source": [
    "import json"
   ]
  },
  {
   "cell_type": "code",
   "execution_count": 126,
   "metadata": {
    "scrolled": true
   },
   "outputs": [
    {
     "data": {
      "text/plain": [
       "'{\"CRIM\": 0.00632, \"ZN\": 18.0, \"INDUS\": 2.31, \"CHAS\": 0.0, \"NOX\": 0.538, \"RM\": 6.575, \"AGE\": 65.2, \"DIS\": 4.09, \"RAD\": 1.0, \"TAX\": 296.0, \"PTRATIO\": 15.3, \"B\": 396.9, \"LSTAT\": 4.98}'"
      ]
     },
     "execution_count": 126,
     "metadata": {},
     "output_type": "execute_result"
    }
   ],
   "source": [
    "json.dumps(data_dict)"
   ]
  },
  {
   "cell_type": "code",
   "execution_count": 15,
   "metadata": {},
   "outputs": [
    {
     "data": {
      "text/plain": [
       "array(['CRIM', 'ZN', 'INDUS', 'CHAS', 'NOX', 'RM', 'AGE', 'DIS', 'RAD',\n",
       "       'TAX', 'PTRATIO', 'B', 'LSTAT'], dtype='<U7')"
      ]
     },
     "execution_count": 15,
     "metadata": {},
     "output_type": "execute_result"
    }
   ],
   "source": [
    "features"
   ]
  },
  {
   "cell_type": "code",
   "execution_count": null,
   "metadata": {},
   "outputs": [],
   "source": []
  }
 ],
 "metadata": {
  "kernelspec": {
   "display_name": "ml_apps",
   "language": "python",
   "name": "ml_apps"
  },
  "language_info": {
   "codemirror_mode": {
    "name": "ipython",
    "version": 3
   },
   "file_extension": ".py",
   "mimetype": "text/x-python",
   "name": "python",
   "nbconvert_exporter": "python",
   "pygments_lexer": "ipython3",
   "version": "3.6.5"
  }
 },
 "nbformat": 4,
 "nbformat_minor": 2
}
